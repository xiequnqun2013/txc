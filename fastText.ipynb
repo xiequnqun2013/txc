{
 "cells": [
  {
   "cell_type": "code",
   "execution_count": null,
   "metadata": {},
   "outputs": [],
   "source": [
    "# gen fastText sample\n",
    "import pandas as pd\n",
    "group_user_click_ad = pd.read_csv('/home/tione/notebook/group_user_click_ad.csv')"
   ]
  },
  {
   "cell_type": "code",
   "execution_count": null,
   "metadata": {},
   "outputs": [],
   "source": [
    "group_user_click_ad"
   ]
  },
  {
   "cell_type": "code",
   "execution_count": 7,
   "metadata": {},
   "outputs": [],
   "source": [
    "# only use creative_id\n",
    "user = pd.read_csv('/home/tione/notebook/data/train_preliminary/user.csv')\n",
    "traing_data = group_user_click_ad[['user_id','creative_id']].join(user.set_index('user_id'), on='user_id')"
   ]
  },
  {
   "cell_type": "code",
   "execution_count": 8,
   "metadata": {},
   "outputs": [
    {
     "data": {
      "text/html": [
       "<div>\n",
       "<style scoped>\n",
       "    .dataframe tbody tr th:only-of-type {\n",
       "        vertical-align: middle;\n",
       "    }\n",
       "\n",
       "    .dataframe tbody tr th {\n",
       "        vertical-align: top;\n",
       "    }\n",
       "\n",
       "    .dataframe thead th {\n",
       "        text-align: right;\n",
       "    }\n",
       "</style>\n",
       "<table border=\"1\" class=\"dataframe\">\n",
       "  <thead>\n",
       "    <tr style=\"text-align: right;\">\n",
       "      <th></th>\n",
       "      <th>user_id</th>\n",
       "      <th>creative_id</th>\n",
       "      <th>age</th>\n",
       "      <th>gender</th>\n",
       "    </tr>\n",
       "  </thead>\n",
       "  <tbody>\n",
       "    <tr>\n",
       "      <th>0</th>\n",
       "      <td>1</td>\n",
       "      <td>71691%821396%209778%877468%3068256%1683713%194...</td>\n",
       "      <td>4</td>\n",
       "      <td>1</td>\n",
       "    </tr>\n",
       "    <tr>\n",
       "      <th>1</th>\n",
       "      <td>2</td>\n",
       "      <td>4194247%3765766%22013%155822%63441%1657530%625...</td>\n",
       "      <td>10</td>\n",
       "      <td>1</td>\n",
       "    </tr>\n",
       "    <tr>\n",
       "      <th>2</th>\n",
       "      <td>3</td>\n",
       "      <td>2556703%3255755%710859%3386299%825434%2198902%...</td>\n",
       "      <td>7</td>\n",
       "      <td>2</td>\n",
       "    </tr>\n",
       "    <tr>\n",
       "      <th>3</th>\n",
       "      <td>4</td>\n",
       "      <td>1962706%2741116%574787%2965543%2264105%3321332...</td>\n",
       "      <td>5</td>\n",
       "      <td>1</td>\n",
       "    </tr>\n",
       "    <tr>\n",
       "      <th>4</th>\n",
       "      <td>5</td>\n",
       "      <td>2386115%2326983%75011%3804062%1384893%43235%14...</td>\n",
       "      <td>4</td>\n",
       "      <td>1</td>\n",
       "    </tr>\n",
       "    <tr>\n",
       "      <th>...</th>\n",
       "      <td>...</td>\n",
       "      <td>...</td>\n",
       "      <td>...</td>\n",
       "      <td>...</td>\n",
       "    </tr>\n",
       "    <tr>\n",
       "      <th>899995</th>\n",
       "      <td>899996</td>\n",
       "      <td>654526%2611415%939409%2611415%1477926%92193%30...</td>\n",
       "      <td>5</td>\n",
       "      <td>1</td>\n",
       "    </tr>\n",
       "    <tr>\n",
       "      <th>899996</th>\n",
       "      <td>899997</td>\n",
       "      <td>7400%3011222%60330%1143180%177415%127573%33570...</td>\n",
       "      <td>3</td>\n",
       "      <td>2</td>\n",
       "    </tr>\n",
       "    <tr>\n",
       "      <th>899997</th>\n",
       "      <td>899998</td>\n",
       "      <td>648402%71752%3537052%3527177%1251649%3750929%1...</td>\n",
       "      <td>4</td>\n",
       "      <td>2</td>\n",
       "    </tr>\n",
       "    <tr>\n",
       "      <th>899998</th>\n",
       "      <td>899999</td>\n",
       "      <td>456738%1287932%1513243%2479870%2288411%122834%...</td>\n",
       "      <td>3</td>\n",
       "      <td>1</td>\n",
       "    </tr>\n",
       "    <tr>\n",
       "      <th>899999</th>\n",
       "      <td>900000</td>\n",
       "      <td>3391205%3471208%4387250%3527098%1807163%229018...</td>\n",
       "      <td>3</td>\n",
       "      <td>2</td>\n",
       "    </tr>\n",
       "  </tbody>\n",
       "</table>\n",
       "<p>900000 rows × 4 columns</p>\n",
       "</div>"
      ],
      "text/plain": [
       "        user_id                                        creative_id  age  \\\n",
       "0             1  71691%821396%209778%877468%3068256%1683713%194...    4   \n",
       "1             2  4194247%3765766%22013%155822%63441%1657530%625...   10   \n",
       "2             3  2556703%3255755%710859%3386299%825434%2198902%...    7   \n",
       "3             4  1962706%2741116%574787%2965543%2264105%3321332...    5   \n",
       "4             5  2386115%2326983%75011%3804062%1384893%43235%14...    4   \n",
       "...         ...                                                ...  ...   \n",
       "899995   899996  654526%2611415%939409%2611415%1477926%92193%30...    5   \n",
       "899996   899997  7400%3011222%60330%1143180%177415%127573%33570...    3   \n",
       "899997   899998  648402%71752%3537052%3527177%1251649%3750929%1...    4   \n",
       "899998   899999  456738%1287932%1513243%2479870%2288411%122834%...    3   \n",
       "899999   900000  3391205%3471208%4387250%3527098%1807163%229018...    3   \n",
       "\n",
       "        gender  \n",
       "0            1  \n",
       "1            1  \n",
       "2            2  \n",
       "3            1  \n",
       "4            1  \n",
       "...        ...  \n",
       "899995       1  \n",
       "899996       2  \n",
       "899997       2  \n",
       "899998       1  \n",
       "899999       2  \n",
       "\n",
       "[900000 rows x 4 columns]"
      ]
     },
     "execution_count": 8,
     "metadata": {},
     "output_type": "execute_result"
    }
   ],
   "source": [
    "traing_data"
   ]
  },
  {
   "cell_type": "code",
   "execution_count": 24,
   "metadata": {},
   "outputs": [],
   "source": [
    "traing_data['fast_text_valuse'] = traing_data['creative_id'].apply(lambda x: x.replace('%',' '))"
   ]
  },
  {
   "cell_type": "code",
   "execution_count": 25,
   "metadata": {},
   "outputs": [
    {
     "data": {
      "text/plain": [
       "0         71691 821396 209778 877468 3068256 1683713 194...\n",
       "1         4194247 3765766 22013 155822 63441 1657530 625...\n",
       "2         2556703 3255755 710859 3386299 825434 2198902 ...\n",
       "3         1962706 2741116 574787 2965543 2264105 3321332...\n",
       "4         2386115 2326983 75011 3804062 1384893 43235 14...\n",
       "                                ...                        \n",
       "899995    654526 2611415 939409 2611415 1477926 92193 30...\n",
       "899996    7400 3011222 60330 1143180 177415 127573 33570...\n",
       "899997    648402 71752 3537052 3527177 1251649 3750929 1...\n",
       "899998    456738 1287932 1513243 2479870 2288411 122834 ...\n",
       "899999    3391205 3471208 4387250 3527098 1807163 229018...\n",
       "Name: fast_text_valuse, Length: 900000, dtype: object"
      ]
     },
     "execution_count": 25,
     "metadata": {},
     "output_type": "execute_result"
    }
   ],
   "source": [
    "traing_data['fast_text_valuse']"
   ]
  },
  {
   "cell_type": "code",
   "execution_count": 26,
   "metadata": {},
   "outputs": [],
   "source": [
    "traing_data['age_training'] = '__label__' + traing_data['age'].astype(str) + ' '+ traing_data['fast_text_valuse']"
   ]
  },
  {
   "cell_type": "code",
   "execution_count": 28,
   "metadata": {},
   "outputs": [],
   "source": [
    "traing_data['gender_training'] = '__label__' + traing_data['gender'].astype(str) + ' '+ traing_data['fast_text_valuse']"
   ]
  },
  {
   "cell_type": "code",
   "execution_count": 32,
   "metadata": {},
   "outputs": [],
   "source": [
    "traing_data['age_training'].to_csv('/home/tione/notebook/fastText-0.9.2/data/age_training.cvs',index=False,header=False)"
   ]
  },
  {
   "cell_type": "code",
   "execution_count": 33,
   "metadata": {},
   "outputs": [],
   "source": [
    "traing_data['gender_training'].to_csv('/home/tione/notebook/fastText-0.9.2/data/gender_training.cvs',index=False,header=False)"
   ]
  },
  {
   "cell_type": "code",
   "execution_count": null,
   "metadata": {},
   "outputs": [],
   "source": []
  }
 ],
 "metadata": {
  "kernelspec": {
   "display_name": "conda_tensorflow_py3",
   "language": "python",
   "name": "conda_tensorflow_py3"
  },
  "language_info": {
   "codemirror_mode": {
    "name": "ipython",
    "version": 3
   },
   "file_extension": ".py",
   "mimetype": "text/x-python",
   "name": "python",
   "nbconvert_exporter": "python",
   "pygments_lexer": "ipython3",
   "version": "3.6.5"
  }
 },
 "nbformat": 4,
 "nbformat_minor": 4
}
