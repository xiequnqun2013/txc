{
 "cells": [
  {
   "cell_type": "code",
   "execution_count": 1,
   "metadata": {},
   "outputs": [],
   "source": [
    "#load test data\n",
    "import pandas as pd\n",
    "click = pd.read_csv('/home/tione/notebook/data/test/click_log.csv')"
   ]
  },
  {
   "cell_type": "code",
   "execution_count": 2,
   "metadata": {},
   "outputs": [],
   "source": [
    "ad = pd.read_csv('/home/tione/notebook/data/test/ad.csv')"
   ]
  },
  {
   "cell_type": "code",
   "execution_count": 3,
   "metadata": {},
   "outputs": [],
   "source": [
    "user_ad_click  = click.join(ad.set_index('creative_id'), on='creative_id')"
   ]
  },
  {
   "cell_type": "code",
   "execution_count": null,
   "metadata": {},
   "outputs": [],
   "source": [
    "group_user_click_ad = user_ad_click.groupby('user_id').agg(lambda x: ' '.join(x.values.astype(str)))"
   ]
  },
  {
   "cell_type": "code",
   "execution_count": null,
   "metadata": {},
   "outputs": [],
   "source": [
    "group_user_click_ad"
   ]
  },
  {
   "cell_type": "code",
   "execution_count": null,
   "metadata": {},
   "outputs": [],
   "source": [
    "replace_traing_data = group_user_click_ad"
   ]
  },
  {
   "cell_type": "code",
   "execution_count": null,
   "metadata": {},
   "outputs": [],
   "source": [
    "replace_traing_data['training_features'] = replace_traing_data['creative_id'].apply(lambda x: \"c \".join(x.split(\" \"))+\"c\") + ' ' + replace_traing_data['time'].apply(lambda x: \"t \".join(x.split(\" \"))+\"t\") +' '+ replace_traing_data['ad_id'].apply(lambda x: \"a \".join(x.split(\" \"))+\"a\")  +' '+ replace_traing_data['product_id'].apply(lambda x: \"pr \".join(x.split(\" \"))+\"pr\") + ' '+ replace_traing_data['product_category'].apply(lambda x: \"pc \".join(x.split(\" \"))+\"pc\") + ' '+ replace_traing_data['advertiser_id'].apply(lambda x: \"ai \".join(x.split(\" \"))+\"ai\") +' '+ replace_traing_data['industry'].apply(lambda x: \"in \".join(x.split(\" \"))+\"in\")"
   ]
  },
  {
   "cell_type": "code",
   "execution_count": null,
   "metadata": {},
   "outputs": [],
   "source": [
    "replace_traing_data"
   ]
  },
  {
   "cell_type": "code",
   "execution_count": null,
   "metadata": {},
   "outputs": [],
   "source": [
    "replace_traing_data['training_features'].to_csv('/home/tione/notebook/fastText-0.9.2/data/full_predict_data.csv',index=False,header=False)"
   ]
  },
  {
   "cell_type": "code",
   "execution_count": null,
   "metadata": {},
   "outputs": [],
   "source": []
  },
  {
   "cell_type": "code",
   "execution_count": null,
   "metadata": {},
   "outputs": [],
   "source": []
  }
 ],
 "metadata": {
  "kernelspec": {
   "display_name": "conda_tensorflow_py3",
   "language": "python",
   "name": "conda_tensorflow_py3"
  },
  "language_info": {
   "codemirror_mode": {
    "name": "ipython",
    "version": 3
   },
   "file_extension": ".py",
   "mimetype": "text/x-python",
   "name": "python",
   "nbconvert_exporter": "python",
   "pygments_lexer": "ipython3",
   "version": "3.6.5"
  }
 },
 "nbformat": 4,
 "nbformat_minor": 4
}
